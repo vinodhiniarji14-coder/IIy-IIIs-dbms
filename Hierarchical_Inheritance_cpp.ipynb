{
  "nbformat": 4,
  "nbformat_minor": 0,
  "metadata": {
    "colab": {
      "provenance": [],
      "authorship_tag": "ABX9TyPQWn8QnkdvFU4XRn2cIvp9",
      "include_colab_link": true
    },
    "kernelspec": {
      "name": "python3",
      "display_name": "Python 3"
    },
    "language_info": {
      "name": "python"
    }
  },
  "cells": [
    {
      "cell_type": "markdown",
      "metadata": {
        "id": "view-in-github",
        "colab_type": "text"
      },
      "source": [
        "<a href=\"https://colab.research.google.com/github/vinodhiniarji14-coder/IIy-IIIs-dbms/blob/main/Hierarchical_Inheritance_cpp.ipynb\" target=\"_parent\"><img src=\"https://colab.research.google.com/assets/colab-badge.svg\" alt=\"Open In Colab\"/></a>"
      ]
    },
    {
      "cell_type": "code",
      "execution_count": 3,
      "metadata": {
        "colab": {
          "base_uri": "https://localhost:8080/"
        },
        "id": "xjt8FfXONjgY",
        "outputId": "9c5cc7a0-ce32-4ae2-deb7-5a12b11dd734"
      },
      "outputs": [
        {
          "output_type": "stream",
          "name": "stdout",
          "text": [
            "24B11AI020\n",
            "Common feature from Parent\n",
            "Feature of Child1\n",
            "Common feature from Parent\n",
            "Feature of Child2\n"
          ]
        }
      ],
      "source": [
        "class Parent:\n",
        "    def commonFeature(self):\n",
        "        print(\"Common feature from Parent\")\n",
        "\n",
        "class Child1(Parent):\n",
        "    def feature1(self):\n",
        "        print(\"Feature of Child1\")\n",
        "\n",
        "class Child2(Parent):\n",
        "    def feature2(self):\n",
        "        print(\"Feature of Child2\")\n",
        "\n",
        "print(\"24B11AI020\")\n",
        "c1 = Child1()\n",
        "c1.commonFeature()\n",
        "c1.feature1()\n",
        "\n",
        "c2 = Child2()\n",
        "c2.commonFeature()\n",
        "c2.feature2()"
      ]
    }
  ]
}